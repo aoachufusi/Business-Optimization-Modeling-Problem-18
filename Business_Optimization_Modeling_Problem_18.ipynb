{
  "nbformat": 4,
  "nbformat_minor": 0,
  "metadata": {
    "colab": {
      "provenance": []
    },
    "kernelspec": {
      "name": "python3",
      "display_name": "Python 3"
    },
    "language_info": {
      "name": "python"
    }
  },
  "cells": [
    {
      "cell_type": "code",
      "execution_count": 1,
      "metadata": {
        "id": "9vLmBqNvAAU0"
      },
      "outputs": [],
      "source": [
        "from scipy . optimize import linprog\n",
        "from numpy import inf, dot"
      ]
    },
    {
      "cell_type": "code",
      "source": [
        "# Part A Code!!!\n",
        "\n",
        "# objective coefficient vector\n",
        "c = [-160000, -220000, -310000, -558000]\n",
        "\n",
        "# inequality constraints in the form A_ub x <= b_ub ('<=' means 'less than or equal to' here)\n",
        "A_ub = [[165000, 229000, 315000, 570000]]  # It's called A_ub because we are assuming these are all upper bound constraints\n",
        "\n",
        "b_ub = [1000000]\n",
        "\n",
        "# bounds on variables\n",
        "bounds = [[0, 1], [0, 1], [0, 1], [0, 1]]\n",
        "\n",
        "print(linprog(c, A_ub=A_ub, b_ub=b_ub, bounds=bounds, integrality=[3]*4))\n"
      ],
      "metadata": {
        "colab": {
          "base_uri": "https://localhost:8080/"
        },
        "id": "hWRHwY8l1iCq",
        "outputId": "4367f282-4371-4c1f-e677-46f7073b6e55"
      },
      "execution_count": 2,
      "outputs": [
        {
          "output_type": "stream",
          "name": "stdout",
          "text": [
            "        message: Optimization terminated successfully. (HiGHS Status 7: Optimal)\n",
            "        success: True\n",
            "         status: 0\n",
            "            fun: -938000.0\n",
            "              x: [ 1.000e+00  1.000e+00  0.000e+00  1.000e+00]\n",
            "            nit: -1\n",
            "          lower:  residual: [ 1.000e+00  1.000e+00  0.000e+00  1.000e+00]\n",
            "                 marginals: [ 0.000e+00  0.000e+00  0.000e+00  0.000e+00]\n",
            "          upper:  residual: [ 0.000e+00  0.000e+00  1.000e+00  0.000e+00]\n",
            "                 marginals: [ 0.000e+00  0.000e+00  0.000e+00  0.000e+00]\n",
            "          eqlin:  residual: []\n",
            "                 marginals: []\n",
            "        ineqlin:  residual: [ 3.600e+04]\n",
            "                 marginals: [ 0.000e+00]\n",
            " mip_node_count: 1\n",
            " mip_dual_bound: -938000.0\n",
            "        mip_gap: 0.0\n"
          ]
        }
      ]
    },
    {
      "cell_type": "code",
      "source": [
        "# Part B Code!!!\n",
        "\n",
        "# objective coefficient vector\n",
        "c = [-160000, -220000, -310000, -558000]\n",
        "\n",
        "# inequality constraints in the form A.ub x <= b.ub ('<=' means 'less than or equal to' here)\n",
        "A_ub = [[165000, 229000, 315000, 570000],\n",
        "        [0, 1, -1, 0]\n",
        "        ] # It's called A.ub because we are assuming these are all upper bound constraints (any lower bound constraints should be multiplied by -1)\n",
        "\n",
        "b_ub = [1000000, 0]\n",
        "\n",
        "# bounds on variables\n",
        "bounds = [[0, 1], [0, 1], [0, 1], [0, 1]]\n",
        "\n",
        "print(linprog(c, A_ub=A_ub, b_ub=b_ub, bounds=bounds, integrality=[3]*4))\n"
      ],
      "metadata": {
        "colab": {
          "base_uri": "https://localhost:8080/"
        },
        "id": "0kW7qb5qYog6",
        "outputId": "aa6b2e21-ef00-4df8-d2f2-179f4e215c9e"
      },
      "execution_count": null,
      "outputs": [
        {
          "output_type": "stream",
          "name": "stdout",
          "text": [
            "        message: Optimization terminated successfully. (HiGHS Status 7: Optimal)\n",
            "        success: True\n",
            "         status: 0\n",
            "            fun: -868000.0\n",
            "              x: [ 0.000e+00  0.000e+00  1.000e+00  1.000e+00]\n",
            "            nit: 1\n",
            "          lower:  residual: [ 0.000e+00  0.000e+00  1.000e+00  1.000e+00]\n",
            "                 marginals: [ 0.000e+00  0.000e+00  0.000e+00  0.000e+00]\n",
            "          upper:  residual: [ 1.000e+00  1.000e+00  0.000e+00  0.000e+00]\n",
            "                 marginals: [ 0.000e+00  0.000e+00  0.000e+00  0.000e+00]\n",
            "          eqlin:  residual: []\n",
            "                 marginals: []\n",
            "        ineqlin:  residual: [ 1.150e+05  1.000e+00]\n",
            "                 marginals: [ 0.000e+00  0.000e+00]\n",
            " mip_node_count: 1\n",
            " mip_dual_bound: -868000.0\n",
            "        mip_gap: 0.0\n"
          ]
        }
      ]
    },
    {
      "cell_type": "code",
      "source": [],
      "metadata": {
        "id": "83KejKQ5w4Qc"
      },
      "execution_count": null,
      "outputs": []
    }
  ]
}